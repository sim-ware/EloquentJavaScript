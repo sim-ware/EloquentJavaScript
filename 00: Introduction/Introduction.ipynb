{
 "cells": [
  {
   "cell_type": "markdown",
   "metadata": {},
   "source": [
    "# Introduction\n",
    "'This is a book about getting computers to do what you want them to do... To many, they remain alien, slightly threatening things.'\n",
    "\n",
    "Author explains how UI's mimic our physical reality and provide humans with a relatable, intelligible way to use the power of computing. \n",
    "\n",
    "'But we have not yet found a good way to use the point-and-click approuach to communicate things to the computer that the designer of the interface did not anticipate.'\n",
    "\n",
    "'..we've had more luck with an approach that makes use of our talent for language: teaching the machine a language.'\n",
    "\n",
    "## On Programming\n",
    "\"The computer programmer is a creator of universes for which he [sic] alone is responsible. Universes of virtually unlimited complexity can be created in the form of computer programs. - Joseph Weizenbaum (Computer Power & Human Reason)\"\n",
    "\n",
    "'Analogies that try to compare programs to objects we are familiar with tend to fall short. A superficially fitting one is that of a machine - lots of separate parts tend to be invovled, and to make the whole thing tick, we have to consider the ways in which these parts interconnect and contribute to the operation of the whole.'\n",
    "\n",
    "I like the universe analogy - I also think of the creation of a computer program as similar to world-building in literature. In video-game creation, this analogy has a real-life example. Video games require a world created and disciplined by the rules that interconnect and contribute to the balance of the whole. Players in a video game are often like the users of a program.\n",
    "\n",
    "'A computer is a machine built to act as a host for these immaterial machines (a reference to the above analogy).'\n",
    "\n",
    "'Computers themselves can only do stupidly straightforward things. The reason they are so useful is that they can do these things at an incredibly high speed.'\n",
    "\n",
    "'Keeping programs under control is the main problem of programming.'\n",
    "\n",
    "'The art of programming is the skill of controlling complexity.'\n",
    "\n",
    "## Why Language Matters\n",
    "'Part of the power of programming languages is that they take care of uninteresting details for us.'\n",
    "\n",
    "'..the same program can be expressed in long and short, unreadable and readable ways.'\n",
    "\n",
    "'A good programming language helps the programmer by allowing them to talk about the actions that the computer has to perform on a higher level. It helps omit uninteresting details, provides convenient building blocks, allows you to define your own blocks, and makes them easy to compose.'\n",
    "\n",
    "## What is JavaScript?\n",
    "'..was introduced in 1995 as a way to add programs to web pages in the Netscape Navigator browser.'\n",
    "\n",
    "'it has made modern web applications possible - applications with which you can interact directly, without doing a page reload for every action.. to provide various forms of interactivity and cleverness.'\n",
    "\n",
    "'Almost nothing to with Java.. similar name was inspired by marketing considerations rather than good judgement.'\n",
    "\n",
    "'After JavaScript's widespread adoption, a standard document was written to describe the way the language should work to make sure the various pieces of software that claimed to support JavaScript were actually talking about the same language. This is called the ECMAScript standard.'\n",
    "\n",
    "'In practice, the terms ECMAScript and JavaScript can be used interchangeably - they are two names for the same language.'\n",
    "\n",
    "'There are those who will say terrible things about JavaScript. Many of these things are true.'\n",
    "\n",
    "'JavaScript is ridiculously liberal in what it allows.'\n",
    "\n",
    "'..the idea behind this being that it would make things easier for beginners - in actuality, it can make finding problems in your programs harder, as the system will not point them out to you.'\n",
    "\n",
    "'The flexibility has a lot of advantages, though. It leaves space for a lot of techniques that are impossible in more rigid languages, and it can be used to overcome some of JavaScript's shortcomings.'\n",
    "\n"
   ]
  }
 ],
 "metadata": {
  "kernelspec": {
   "display_name": "Deno",
   "language": "typescript",
   "name": "deno"
  },
  "language_info": {
   "codemirror_mode": "typescript",
   "file_extension": ".ts",
   "mimetype": "text/x.typescript",
   "name": "typescript",
   "nbconvert_exporter": "script",
   "pygments_lexer": "typescript",
   "version": "5.6.2"
  }
 },
 "nbformat": 4,
 "nbformat_minor": 2
}
