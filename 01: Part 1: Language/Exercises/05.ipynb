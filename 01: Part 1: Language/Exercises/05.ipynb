{
 "cells": [
  {
   "cell_type": "markdown",
   "metadata": {},
   "source": [
    "# Higher-Order Functions\n",
    "### Flattening\n",
    "Use the reduce method in combination with the concat method to “flatten” an array of arrays into a single array that has all the elements of the original arrays."
   ]
  },
  {
   "cell_type": "code",
   "execution_count": 2,
   "metadata": {},
   "outputs": [
    {
     "name": "stdout",
     "output_type": "stream",
     "text": [
      "[ 1, 2, 3, 4, 5, 6 ]\n"
     ]
    }
   ],
   "source": [
    "let arrays = [[1, 2, 3], [4, 5], [6]];\n",
    "// Your code here.\n",
    "const result = arrays.reduce((acc, currVal) => acc.concat(currVal));\n",
    "console.log(result);\n",
    "// → [1, 2, 3, 4, 5, 6]"
   ]
  },
  {
   "cell_type": "markdown",
   "metadata": {},
   "source": [
    "### Mother-Child Age Difference\n",
    "Using the example data set from this chapter, compute the average age difference between mothers and children (the age of the mother when the child is born). You can use the average function defined earlier in this chapter.\n",
    "\n",
    "Note that not all the mothers mentioned in the data are themselves present in the array. The `byName` object, which makes it easy to find a person's object from their name, might be useful here."
   ]
  },
  {
   "cell_type": "code",
   "execution_count": 17,
   "metadata": {},
   "outputs": [
    {
     "name": "stdout",
     "output_type": "stream",
     "text": [
      "averageAgeDifference: 31.22222222222222\n"
     ]
    }
   ],
   "source": [
    "const ancestryJSON = [\n",
    "  {\"name\": \"Carolus Haverbeke\", \"sex\": \"m\", \"born\": 1832, \"died\": 1905, \"father\": \"Carel Haverbeke\", \"mother\": \"Maria van Brussel\"},\n",
    "  {\"name\": \"Emma de Milliano\", \"sex\": \"f\", \"born\": 1876, \"died\": 1956, \"father\": \"Petrus de Milliano\", \"mother\": \"Sophia van Damme\"},\n",
    "  {\"name\": \"Maria de Rycke\", \"sex\": \"f\", \"born\": 1683, \"died\": 1724, \"father\": \"Frederik de Rycke\", \"mother\": \"Laurentia van Vlaenderen\"},\n",
    "  {\"name\": \"Jan van Brussel\", \"sex\": \"m\", \"born\": 1714, \"died\": 1748, \"father\": \"Jacobus van Brussel\", \"mother\": \"Joanna van Rooten\"},\n",
    "  {\"name\": \"Philibert Haverbeke\", \"sex\": \"m\", \"born\": 1907, \"died\": 1997, \"father\": \"Emile Haverbeke\", \"mother\": \"Emma de Milliano\"},\n",
    "  {\"name\": \"Jan Frans van Brussel\", \"sex\": \"m\", \"born\": 1761, \"died\": 1833, \"father\": \"Jacobus Bernardus van Brussel\", \"mother\":null},\n",
    "  {\"name\": \"Pauwels van Haverbeke\", \"sex\": \"m\", \"born\": 1535, \"died\": 1582, \"father\": \"N. van Haverbeke\", \"mother\":null},\n",
    "  {\"name\": \"Clara Aernoudts\", \"sex\": \"f\", \"born\": 1918, \"died\": 2012, \"father\": \"Henry Aernoudts\", \"mother\": \"Sidonie Coene\"},\n",
    "  {\"name\": \"Emile Haverbeke\", \"sex\": \"m\", \"born\": 1877, \"died\": 1968, \"father\": \"Carolus Haverbeke\", \"mother\": \"Maria Sturm\"},\n",
    "  {\"name\": \"Lieven de Causmaecker\", \"sex\": \"m\", \"born\": 1696, \"died\": 1724, \"father\": \"Carel de Causmaecker\", \"mother\": \"Joanna Claes\"},\n",
    "  {\"name\": \"Pieter Haverbeke\", \"sex\": \"m\", \"born\": 1602, \"died\": 1642, \"father\": \"Lieven van Haverbeke\", \"mother\":null},\n",
    "  {\"name\": \"Livina Haverbeke\", \"sex\": \"f\", \"born\": 1692, \"died\": 1743, \"father\": \"Daniel Haverbeke\", \"mother\": \"Joanna de Pape\"},\n",
    "  {\"name\": \"Pieter Bernard Haverbeke\", \"sex\": \"m\", \"born\": 1695, \"died\": 1762, \"father\": \"Willem Haverbeke\", \"mother\": \"Petronella Wauters\"},\n",
    "  {\"name\": \"Lieven van Haverbeke\", \"sex\": \"m\", \"born\": 1570, \"died\": 1636, \"father\": \"Pauwels van Haverbeke\", \"mother\": \"Lievijne Jans\"},\n",
    "  {\"name\": \"Joanna de Causmaecker\", \"sex\": \"f\", \"born\": 1762, \"died\": 1807, \"father\": \"Bernardus de Causmaecker\", \"mother\":null},\n",
    "  {\"name\": \"Willem Haverbeke\", \"sex\": \"m\", \"born\": 1668, \"died\": 1731, \"father\": \"Lieven Haverbeke\", \"mother\": \"Elisabeth Hercke\"},\n",
    "  {\"name\": \"Pieter Antone Haverbeke\", \"sex\": \"m\", \"born\": 1753, \"died\": 1798, \"father\": \"Jan Francies Haverbeke\", \"mother\": \"Petronella de Decker\"},\n",
    "  {\"name\": \"Maria van Brussel\", \"sex\": \"f\", \"born\": 1801, \"died\": 1834, \"father\": \"Jan Frans van Brussel\", \"mother\": \"Joanna de Causmaecker\"},\n",
    "  {\"name\": \"Angela Haverbeke\", \"sex\": \"f\", \"born\": 1728, \"died\": 1734, \"father\": \"Pieter Bernard Haverbeke\", \"mother\": \"Livina de Vrieze\"},\n",
    "  {\"name\": \"Elisabeth Haverbeke\", \"sex\": \"f\", \"born\": 1711, \"died\": 1754, \"father\": \"Jan Haverbeke\", \"mother\": \"Maria de Rycke\"},\n",
    "  {\"name\": \"Lievijne Jans\", \"sex\": \"f\", \"born\": 1542, \"died\": 1582, \"father\":null, \"mother\":null},\n",
    "  {\"name\": \"Bernardus de Causmaecker\", \"sex\": \"m\", \"born\": 1721, \"died\": 1789, \"father\": \"Lieven de Causmaecker\", \"mother\": \"Livina Haverbeke\"},\n",
    "  {\"name\": \"Jacoba Lammens\", \"sex\": \"f\", \"born\": 1699, \"died\": 1740, \"father\": \"Lieven Lammens\", \"mother\": \"Livina de Vrieze\"},\n",
    "  {\"name\": \"Pieter de Decker\", \"sex\": \"m\", \"born\": 1705, \"died\": 1780, \"father\": \"Joos de Decker\", \"mother\": \"Petronella van de Steene\"},\n",
    "  {\"name\": \"Joanna de Pape\", \"sex\": \"f\", \"born\": 1654, \"died\": 1723, \"father\": \"Vincent de Pape\", \"mother\": \"Petronella Wauters\"},\n",
    "  {\"name\": \"Daniel Haverbeke\", \"sex\": \"m\", \"born\": 1652, \"died\": 1723, \"father\": \"Lieven Haverbeke\", \"mother\": \"Elisabeth Hercke\"},\n",
    "  {\"name\": \"Lieven Haverbeke\", \"sex\": \"m\", \"born\": 1631, \"died\": 1676, \"father\": \"Pieter Haverbeke\", \"mother\": \"Anna van Hecke\"},\n",
    "  {\"name\": \"Martina de Pape\", \"sex\": \"f\", \"born\": 1666, \"died\": 1727, \"father\": \"Vincent de Pape\", \"mother\": \"Petronella Wauters\"},\n",
    "  {\"name\": \"Jan Francies Haverbeke\", \"sex\": \"m\", \"born\": 1725, \"died\": 1779, \"father\": \"Pieter Bernard Haverbeke\", \"mother\": \"Livina de Vrieze\"},\n",
    "  {\"name\": \"Maria Haverbeke\", \"sex\": \"m\", \"born\": 1905, \"died\": 1997, \"father\": \"Emile Haverbeke\", \"mother\": \"Emma de Milliano\"},\n",
    "  {\"name\": \"Petronella de Decker\", \"sex\": \"f\", \"born\": 1731, \"died\": 1781, \"father\": \"Pieter de Decker\", \"mother\": \"Livina Haverbeke\"},\n",
    "  {\"name\": \"Livina Sierens\", \"sex\": \"f\", \"born\": 1761, \"died\": 1826, \"father\": \"Jan Sierens\", \"mother\": \"Maria van Waes\"},\n",
    "  {\"name\": \"Laurentia Haverbeke\", \"sex\": \"f\", \"born\": 1710, \"died\": 1786, \"father\": \"Jan Haverbeke\", \"mother\": \"Maria de Rycke\"},\n",
    "  {\"name\": \"Carel Haverbeke\", \"sex\": \"m\", \"born\": 1796, \"died\": 1837, \"father\": \"Pieter Antone Haverbeke\", \"mother\": \"Livina Sierens\"},\n",
    "  {\"name\": \"Elisabeth Hercke\", \"sex\": \"f\", \"born\": 1632, \"died\": 1674, \"father\": \"Willem Hercke\", \"mother\": \"Margriet de Brabander\"},\n",
    "  {\"name\": \"Jan Haverbeke\", \"sex\": \"m\", \"born\": 1671, \"died\": 1731, \"father\": \"Lieven Haverbeke\", \"mother\": \"Elisabeth Hercke\"},\n",
    "  {\"name\": \"Anna van Hecke\", \"sex\": \"f\", \"born\": 1607, \"died\": 1670, \"father\": \"Paschasius van Hecke\", \"mother\": \"Martijntken Beelaert\"},\n",
    "  {\"name\": \"Maria Sturm\", \"sex\": \"f\", \"born\": 1835, \"died\": 1917, \"father\": \"Charles Sturm\", \"mother\": \"Seraphina Spelier\"},\n",
    "  {\"name\": \"Jacobus Bernardus van Brussel\", \"sex\": \"m\", \"born\": 1736, \"died\": 1809, \"father\": \"Jan van Brussel\", \"mother\": \"Elisabeth Haverbeke\"}\n",
    "];\n",
    "\n",
    "const nameMap = {};\n",
    "ancestryJSON.forEach((person) => {\n",
    "  nameMap[person.name] = person;\n",
    "});\n",
    "\n",
    "function average(array) {\n",
    "  function plus(a, b) { return a + b };\n",
    "  return array.reduce(plus) / array.length;\n",
    "};\n",
    "\n",
    "const ageDifferences = [];\n",
    "ancestryJSON.forEach(ancestor => {\n",
    "  const birthYear = ancestor.born;\n",
    "  const mother = nameMap[ancestor.mother];\n",
    "\n",
    "  if (!mother) return;\n",
    "\n",
    "  ageDifferences.push(birthYear - mother.born);\n",
    "});\n",
    "\n",
    "const averageAgeDifference = average(ageDifferences);\n",
    "console.log('averageAgeDifference:', averageAgeDifference);"
   ]
  },
  {
   "cell_type": "markdown",
   "metadata": {},
   "source": [
    "### Historical Life Expectancy\n",
    "When we looked up all the people in our data set that lived more than 90 years, only the latest generation in the data came out. Let's take a closer look at that phenomenon.\n",
    "\n",
    "Compute and output the average age of the people per century in the dataset. \n",
    "\n",
    "A person is assigned to a century by taking their year of death, dividing it by 100, and rounding it up, as in `Math.ceil(person.died / 100)`.\n",
    "\n",
    "For bonus points, write a function `groupBy` that abstracts the grouping operation. It should accept as arguments an array and a function that computes the group for an element in the array and retuns an object that maps group names to arrays of group numbers."
   ]
  },
  {
   "cell_type": "code",
   "execution_count": 19,
   "metadata": {},
   "outputs": [
    {
     "name": "stdout",
     "output_type": "stream",
     "text": [
      "16th Century Average Age: 43.5\n",
      "17th Century Average Age: 51.2\n",
      "18th Century Average Age: 52.78947368421053\n",
      "19th Century Average Age: 54.833333333333336\n",
      "20th Century Average Age: 84.66666666666667\n",
      "21th Century Average Age: 94\n"
     ]
    }
   ],
   "source": [
    "const centuryAndAges = {};\n",
    "\n",
    "ancestryJSON.forEach(person =>{\n",
    "  const { born, died } = person;\n",
    "  const age = died - born;\n",
    "  const century = (Math.ceil(died / 100)).toString();\n",
    "  const existingCenturyKeys = Object.keys(centuryAndAges);\n",
    "\n",
    "  if (existingCenturyKeys.includes(century)) {\n",
    "    centuryAndAges[century].push(age);\n",
    "  } else {\n",
    "    centuryAndAges[century] = [age];\n",
    "  };\n",
    "});\n",
    "\n",
    "for (const [key, value] of Object.entries(centuryAndAges)) {\n",
    "  const averageAge = average(value);\n",
    "  console.log(`${key}th Century Average Age: ${averageAge}`);\n",
    "};\n",
    "\n",
    "// → 16: 43.5\n",
    "//   17: 51.2\n",
    "//   18: 52.8\n",
    "//   19: 54.8\n",
    "//   20: 84.7\n",
    "//   21: 94"
   ]
  },
  {
   "cell_type": "markdown",
   "metadata": {},
   "source": [
    "### Every and Then Some\n",
    "Arrays also come with the standard methods `every` and `some`. \n",
    "\n",
    "Both take a predicate function that, when called with an array element as argument, returns true or false. \n",
    "\n",
    "Just like && returns a true value only when the expressions on both sides are true, every returns true only when the predicate returns true for all elements of the array. \n",
    "\n",
    "Similarly, some returns true as soon as the predicate returns true for any of the elements. \n",
    "\n",
    "They do not process more elements than necessary — for example, if some finds that the predicate holds for the first element of the array, it will not look at the values after that.\n",
    "\n",
    "Write two functions, every and some, that behave like these methods, except that they take the array as their first argument rather than being a method."
   ]
  },
  {
   "cell_type": "code",
   "execution_count": null,
   "metadata": {},
   "outputs": [],
   "source": [
    "function every(array, comparator) {\n",
    "  for (let i = 0; i < array.length; i++) {\n",
    "    if (!comparator(array[i])) return false;\n",
    "  };\n",
    "\n",
    "  return true;\n",
    "};\n",
    "\n",
    "function some(array, comparator) {\n",
    "  for (let i = 0; i < array.length; i++) {\n",
    "    const result = comparator(array[i]);\n",
    "\n",
    "    if (result == true) return true;\n",
    "  };\n",
    "  return false;\n",
    "};\n",
    "\n",
    "console.log(every([NaN, NaN, NaN], isNaN));\n",
    "// → true\n",
    "console.log(every([NaN, NaN, 4], isNaN));\n",
    "// → false\n",
    "console.log(some([NaN, 3, 4], isNaN));\n",
    "// → true\n",
    "console.log(some([2, 3, 4], isNaN));\n",
    "// → false"
   ]
  },
  {
   "cell_type": "markdown",
   "metadata": {},
   "source": [
    "### Your Own Loop\n",
    "Write a higher-order function loop that provides something like a for loop statement. \n",
    "\n",
    "It should take a value, a test function, an update function, and a body function. \n",
    "\n",
    "Each iteration, it should first run the test function on the current loop value and stop if that returns false. \n",
    "\n",
    "It should then call the body function, giving it the current value, and finally call the update function to create a new value and start over from the beginning.\n",
    "\n",
    "When defining the function, you can use a regular loop to do the actual looping."
   ]
  },
  {
   "cell_type": "code",
   "execution_count": null,
   "metadata": {},
   "outputs": [],
   "source": [
    "function loop(value, test, update, body) {\n",
    "  let next = value;\n",
    "\n",
    "  while(test(next)) {\n",
    "    body(next);\n",
    "    next = update(next);\n",
    "  };\n",
    "};\n",
    "// \n",
    "// \n",
    "loop(3, n => n > 0, n => n - 1, console.log);\n",
    "// → 3\n",
    "// → 2\n",
    "// → 1"
   ]
  }
 ],
 "metadata": {
  "kernelspec": {
   "display_name": "Deno",
   "language": "typescript",
   "name": "deno"
  },
  "language_info": {
   "codemirror_mode": "typescript",
   "file_extension": ".ts",
   "mimetype": "text/x.typescript",
   "name": "typescript",
   "nbconvert_exporter": "script",
   "pygments_lexer": "typescript",
   "version": "5.6.2"
  }
 },
 "nbformat": 4,
 "nbformat_minor": 2
}
