{
 "cells": [
  {
   "cell_type": "markdown",
   "metadata": {},
   "source": [
    "# Minimum\n",
    "The previous chapter introduced the standard function Math.min that returns its smallest argument. We can write a function like that ourselves now. Define the function min that takes two arguments and returns their minimum."
   ]
  },
  {
   "cell_type": "code",
   "execution_count": 5,
   "metadata": {},
   "outputs": [
    {
     "name": "stdout",
     "output_type": "stream",
     "text": [
      "0\n",
      "0\n"
     ]
    }
   ],
   "source": [
    "// Your code here.\n",
    "// function min(a, b) {\n",
    "//   return 0;\n",
    "// };\n",
    "\n",
    "console.log(min(0, 10));\n",
    "// → 0\n",
    "console.log(min(0, -10));\n",
    "// → -10"
   ]
  },
  {
   "cell_type": "markdown",
   "metadata": {},
   "source": [
    "# Recursion\n",
    "We’ve seen that we can use % (the remainder operator) to test whether a number is even or odd by using % 2 to see whether it’s divisible by two. Here’s another way to define whether a positive whole number is even or odd:\n",
    "\n",
    "* Zero is even.\n",
    "\n",
    "* One is odd.\n",
    "\n",
    "* For any other number N, its evenness is the same as N - 2.\n",
    "\n",
    "Define a recursive function isEven corresponding to this description. The function should accept a single parameter (a positive, whole number) and return a Boolean.\n",
    "\n",
    "Test it on 50 and 75. See how it behaves on -1. Why? Can you think of a way to fix this?"
   ]
  },
  {
   "cell_type": "code",
   "execution_count": 1,
   "metadata": {},
   "outputs": [
    {
     "ename": "ReferenceError",
     "evalue": "isEven is not defined",
     "output_type": "error",
     "traceback": [
      "Stack trace:",
      "ReferenceError: isEven is not defined",
      "    at <anonymous>:2:9"
     ]
    }
   ],
   "source": [
    "// Your code here.\n",
    "\n",
    "console.log(isEven(50));\n",
    "// → true\n",
    "console.log(isEven(75));\n",
    "// → false\n",
    "console.log(isEven(-1));\n",
    "// → ??"
   ]
  },
  {
   "cell_type": "markdown",
   "metadata": {},
   "source": [
    "# Bean counting\n",
    "You can get the Nth character, or letter, from a string by writing [N] after the string (for example, string[2]). The resulting value will be a string containing only one character (for example, \"b\"). The first character has position 0, which causes the last one to be found at position string.length - 1. In other words, a two-character string has length 2, and its characters have positions 0 and 1.\n",
    "\n",
    "Write a function called countBs that takes a string as its only argument and returns a number that indicates how many uppercase B characters there are in the string.\n",
    "\n",
    "Next, write a function called countChar that behaves like countBs, except it takes a second argument that indicates the character that is to be counted (rather than counting only uppercase B characters). Rewrite countBs to make use of this new function."
   ]
  },
  {
   "cell_type": "code",
   "execution_count": null,
   "metadata": {},
   "outputs": [],
   "source": [
    "// Your code here.\n",
    "\n",
    "console.log(countBs(\"BOB\"));\n",
    "// → 2\n",
    "console.log(countChar(\"kakkerlak\", \"k\"));\n",
    "// → 4"
   ]
  }
 ],
 "metadata": {
  "kernelspec": {
   "display_name": "Deno",
   "language": "typescript",
   "name": "deno"
  },
  "language_info": {
   "codemirror_mode": "typescript",
   "file_extension": ".ts",
   "mimetype": "text/x.typescript",
   "name": "typescript",
   "nbconvert_exporter": "script",
   "pygments_lexer": "typescript",
   "version": "5.6.2"
  }
 },
 "nbformat": 4,
 "nbformat_minor": 2
}
