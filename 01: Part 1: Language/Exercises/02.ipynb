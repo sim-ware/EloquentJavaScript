{
 "cells": [
  {
   "cell_type": "markdown",
   "metadata": {},
   "source": [
    "# Exercises\n",
    "### Looping a Triangle\n",
    "Write a loop that makes seven calls to console.log to output the following triangle:\n",
    "```\n",
    "#\n",
    "##\n",
    "###\n",
    "####\n",
    "#####\n",
    "######\n",
    "#######\n",
    "```\n",
    "\n",
    "It may be useful to know that you can find the length of a string by writing `.length` after it."
   ]
  },
  {
   "cell_type": "code",
   "execution_count": null,
   "metadata": {},
   "outputs": [
    {
     "name": "stdout",
     "output_type": "stream",
     "text": [
      "#\n",
      "##\n",
      "###\n",
      "####\n",
      "#####\n",
      "######\n",
      "#######\n"
     ]
    }
   ],
   "source": [
    "const row = [];\n",
    "\n",
    "for (let count = 1; count <= 7; count++) {\n",
    "  row.push('#');\n",
    "  console.log(row.join(''));\n",
    "};"
   ]
  },
  {
   "cell_type": "markdown",
   "metadata": {},
   "source": [
    "### FizzBuzz\n",
    "Write a program that uses `console.log` to print all the number from 1 to 100 with two exceptions.\n",
    "\n",
    "For numbers divisible by 3, print 'Fizz'.\n",
    "\n",
    "For numbers divisible by 5 (and not 3), print 'Buzz' instead.\n",
    "\n",
    "When you have that working, modify your program to print 'Fizzbuzz' for numbers that are divisible by both 3 and 5."
   ]
  },
  {
   "cell_type": "code",
   "execution_count": null,
   "metadata": {},
   "outputs": [],
   "source": [
    "for (let count = 1; count <= 100; count++) {\n",
    "  if      (count % 3 === 0 && count % 5 !== 0) console.log('¡Fizz!');\n",
    "  else if (count % 5 === 0 && count % 3 !== 0) console.log('¡Buzz!');\n",
    "  else if (count % 5 === 0 && count % 3 === 0) console.log('¡FizzBuzz!');\n",
    "  else console.log(count);\n",
    "};"
   ]
  },
  {
   "cell_type": "markdown",
   "metadata": {},
   "source": [
    "### Chess Board\n",
    "Write a program that creates a string that represents an 8 x 8 grid, using new-line characters to separate lines.\n",
    "\n",
    "At each position of the grid there is either a space or a \"#\" character. Ther characters should form a chess board.\n",
    "\n",
    "  Passing this string to `console.log` should show something like this:\n",
    "```\n",
    "# # # #\n",
    " # # # #\n",
    "# # # #\n",
    " # # # #\n",
    "# # # #\n",
    " # # # #\n",
    "# # # #\n",
    " # # # #\n",
    "```\n",
    "  When you have a program that generates this pattern, define a variable `size = 8` and change the program so that it works for any `size`, outputting a grid of the given width and height.\n"
   ]
  },
  {
   "cell_type": "code",
   "execution_count": null,
   "metadata": {},
   "outputs": [
    {
     "name": "stdout",
     "output_type": "stream",
     "text": [
      "# # # # # # \n",
      " # # # # # # \n",
      "# # # # # # \n",
      " # # # # # # \n",
      "# # # # # # \n",
      " # # # # # # \n",
      "# # # # # # \n",
      " # # # # # # \n",
      "# # # # # # \n",
      " # # # # # # \n",
      "# # # # # # \n",
      " # # # # # # \n"
     ]
    }
   ],
   "source": [
    "const size = 12;\n",
    "const hashRow = [];\n",
    "\n",
    "for (let count = 1; count <= size / 2; count++) hashRow.push('# ');\n",
    "\n",
    "const hashRowString = hashRow.join('');\n",
    "\n",
    "for (let countTwo = 1; countTwo <= size; countTwo++) {\n",
    "  if (countTwo % 2 === 0) console.log(' ' + hashRowString);\n",
    "  else console.log(hashRowString);\n",
    "};"
   ]
  }
 ],
 "metadata": {
  "kernelspec": {
   "display_name": "Deno",
   "language": "typescript",
   "name": "deno"
  },
  "language_info": {
   "codemirror_mode": "typescript",
   "file_extension": ".ts",
   "mimetype": "text/x.typescript",
   "name": "typescript",
   "nbconvert_exporter": "script",
   "pygments_lexer": "typescript",
   "version": "5.6.2"
  }
 },
 "nbformat": 4,
 "nbformat_minor": 2
}
