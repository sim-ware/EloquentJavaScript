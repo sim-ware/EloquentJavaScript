{
 "cells": [
  {
   "cell_type": "markdown",
   "metadata": {},
   "source": [
    "'Inside the computer's world, there is only data. You can read data, modify data, create new data - but anything that isn't data simply does not exist.'\n",
    "\n",
    "'All this data is stored as long sequences of bits and is thus fundamentally alike.'\n",
    "\n",
    "'Bits are any kind of two-valued things, usually described as zeroes and ones. Inside the computer they take forms such as high or low electrical charge, a strong or weak signal, or a shiny or dull spot on the surface of a CD. Any piece of discrete information can be reduced to a sequence of zeroes and ones and thus represented in bits.'\n",
    "\n",
    "'To be able to work with such quantities of bits without getting lost, you can separate them into chunks that represent pieces of information. Within JavaScript, these are called values.'\n",
    "\n",
    "'Six basic types of values in JavaScript: numbers, strings, Booleans, Objects, functions, and undefined values.'\n",
    "\n",
    "###  Numbers\n",
    "'There are 3 special values in JavaScript that are considered number but don't behave like normal numbers.'\n",
    "\n",
    "'The first two are `Infinity` & `-Infinity`, which represent the positive and negative infinites. `Infinity - 1` is still `Infinity`.'\n",
    "\n",
    "'`NaN` stands for \"not a number\", even though it is a value of the number type. You'll get this result when you, for example, try to calculate `0 / 0`, `Infinity - Infinity`, or any number of other numeric operators that don't yield a precise, meaningful result.'\n",
    "\n",
    "###  Strings\n",
    "'Similarly, a `t` after a backslash means a tab character.'\n",
    "\n",
    "###  Unary Operators\n",
    "'Not all operators are symbols. SOme are written as words. One example is the `typeof` operator, which produces a string value naming the type of the value you give it.'\n",
    "\n",
    "'Operators that use two values are called \"binary operators\", while those that take one are called \"unary operators\".'\n",
    "\n",
    "'The minus operator can be used as either binary or unary.'\n",
    "\n",
    "###  Boolean Values\n",
    "'The way strings are ordered is more or less alphabetic.'\n",
    "\n",
    "'There is only one value in JavaScript that is not equal to itself, and that is `NaN` (\"not a number\"). `Nan` is supposed to denote the result of a nonsensical computation, and as such, it isn't equal to the result of any other nonsensical computations.'\n",
    "\n",
    "###  Logical Operators\n",
    "'This one is called the conditional operator (or sometimes just ternary operator since it is the only such operator in the language).'\n",
    "\n",
    "###  Undefined Values\n",
    "'There are two special values, written `null` and `undefined`, that are used to denote the absence of a meaningful value. They are themselves values, but they carry no information.'\n",
    "\n",
    "'Many operations in the language that don't produce a meaningful value yield `undefined` simply because they have to yield some value.'\n",
    "\n",
    "'The difference in meaning between `null` and `undefined` is an accident of JavaScript's design, and it does not matter most of the time.'\n",
    "\n",
    "###  Automatic Type Conversion:"
   ]
  },
  {
   "cell_type": "code",
   "execution_count": null,
   "metadata": {},
   "outputs": [
    {
     "name": "stdout",
     "output_type": "stream",
     "text": [
      "0\n",
      "4\n",
      "51\n",
      "NaN\n",
      "true\n"
     ]
    }
   ],
   "source": [
    "// Automatic Type Conversion\n",
    "console.log(8 * null);   // 0\n",
    "console.log(\"5\" - 1);    // 4\n",
    "console.log(\"5\" + 1);    // 51\n",
    "console.log(\"five\" * 2); // NaN\n",
    "console.log(false == 0); // true"
   ]
  },
  {
   "cell_type": "markdown",
   "metadata": {},
   "source": [
    "'When an operator is applied to the \"wrong\" type of value, JavaScript will quietly convert that value to the type it wants, using a set of rules that often aren't what you want or expect. This is called `type coercion`.'\n",
    "\n",
    "'For cases where you do not want any automatic type conversions to happen, there are two extra operators: `===` and `!==`.'\n",
    "\n",
    "'The logical operators && and || handle values of different types in a peculiar way.'"
   ]
  }
 ],
 "metadata": {
  "kernelspec": {
   "display_name": "Deno",
   "language": "typescript",
   "name": "deno"
  },
  "language_info": {
   "codemirror_mode": "typescript",
   "file_extension": ".ts",
   "mimetype": "text/x.typescript",
   "name": "typescript",
   "nbconvert_exporter": "script",
   "pygments_lexer": "typescript",
   "version": "5.6.2"
  }
 },
 "nbformat": 4,
 "nbformat_minor": 2
}
