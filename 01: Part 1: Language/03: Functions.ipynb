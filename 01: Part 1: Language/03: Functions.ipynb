{
 "cells": [
  {
   "cell_type": "markdown",
   "metadata": {},
   "source": [
    "# Functions\n",
    "'Functions are the bread and butter of JavaScript programming.'\n",
    "\n",
    "'The concept of wrapping a piece of program in a value has many uses.'\n",
    "\n",
    "'It is a tool to structure larger programs, to reduce repetition, to associate names with subprograms, and to isolate these subprograms from each other.'\n",
    "\n",
    "'The most obvious application of functions is defining new vocabulary. Creating new words in regular, human-language prose is usuall bad style. But in programming, it is indispensable.'\n",
    "\n",
    "'Typical adult English speakers have some 20,000 words in their vocabulary. Few programming languages come with 20,000 commands built in.'\n",
    "\n",
    "'The `return` keyword without an expression after it will cause the function to return `undefined`.\n",
    "\n",
    "### Parameters & Scopes\n",
    "'The parameters to a function behave like regular variables, but their initial values are given by the caller of the function, not the code in the function itself.'\n",
    "\n",
    "'By treating function-local variables as existing only within the function, the language makes it possible to read and understand functions as small universes, without having to worry about all the code at once.'\n",
    "\n",
    "### Nested Scopes\n"
   ]
  }
 ],
 "metadata": {
  "language_info": {
   "name": "python"
  }
 },
 "nbformat": 4,
 "nbformat_minor": 2
}
